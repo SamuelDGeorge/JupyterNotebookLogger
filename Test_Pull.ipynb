{
 "cells": [
  {
   "cell_type": "markdown",
   "metadata": {},
   "source": [
    "# Import Packages"
   ]
  },
  {
   "cell_type": "code",
   "execution_count": 1,
   "metadata": {},
   "outputs": [],
   "source": [
    "import json\n",
    "import requests"
   ]
  },
  {
   "cell_type": "markdown",
   "metadata": {},
   "source": [
    "# Create Payload Example"
   ]
  },
  {
   "cell_type": "code",
   "execution_count": 2,
   "metadata": {},
   "outputs": [],
   "source": [
    "url_guide = None\n",
    "with open('Payload_Sample/url.json', 'r') as f:\n",
    "    url_guide = json.load(f)"
   ]
  },
  {
   "cell_type": "code",
   "execution_count": 3,
   "metadata": {},
   "outputs": [],
   "source": [
    "# Define Endpoint\n",
    "url = url_guide['url_pull']"
   ]
  },
  {
   "cell_type": "code",
   "execution_count": 4,
   "metadata": {},
   "outputs": [],
   "source": [
    "#Help Data Dict\n",
    "help_data = {\n",
    "  \"body\": {\n",
    "    \"log_type\": \"Jupyter\",\n",
    "    \"password\": \"password\",\n",
    "    \"skip\": 0,\n",
    "    \"limit\": 100,\n",
    "    \"course_id\": \"NoCourseSpecified\"\n",
    "  }\n",
    "}"
   ]
  },
  {
   "cell_type": "code",
   "execution_count": 9,
   "metadata": {},
   "outputs": [],
   "source": [
    "ret = requests.post(url, json=help_data)"
   ]
  },
  {
   "cell_type": "code",
   "execution_count": 10,
   "metadata": {},
   "outputs": [],
   "source": [
    "ret_json = ret.json()"
   ]
  },
  {
   "cell_type": "code",
   "execution_count": 11,
   "metadata": {},
   "outputs": [
    {
     "name": "stdout",
     "output_type": "stream",
     "text": [
      "2021-01-28 18:34:54.820019\n",
      "2021-01-28 18:38:35.612022\n",
      "2021-01-28 18:36:35.887303\n",
      "2021-02-16 19:09:06.631395\n",
      "2021-01-28 18:40:36.648499\n",
      "2021-01-28 18:34:43.168450\n",
      "2021-01-28 18:36:02.996362\n",
      "2021-01-28 18:34:41.225753\n",
      "2021-01-28 18:36:07.182710\n",
      "2021-02-16 19:10:27.850128\n",
      "2021-01-28 18:37:30.951044\n",
      "2021-02-16 19:12:13.122322\n",
      "2021-02-16 19:13:08.999876\n",
      "2021-02-16 19:09:31.077301\n"
     ]
    }
   ],
   "source": [
    "for i in ret_json['logs']:\n",
    "    print(i['timestamp'])"
   ]
  },
  {
   "cell_type": "code",
   "execution_count": null,
   "metadata": {},
   "outputs": [],
   "source": []
  }
 ],
 "metadata": {
  "kernelspec": {
   "display_name": "Python 3",
   "language": "python",
   "name": "python3"
  },
  "language_info": {
   "codemirror_mode": {
    "name": "ipython",
    "version": 3
   },
   "file_extension": ".py",
   "mimetype": "text/x-python",
   "name": "python",
   "nbconvert_exporter": "python",
   "pygments_lexer": "ipython3",
   "version": "3.8.6rc1"
  }
 },
 "nbformat": 4,
 "nbformat_minor": 4
}
